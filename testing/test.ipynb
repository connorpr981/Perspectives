{
 "cells": [
  {
   "cell_type": "code",
   "execution_count": 2,
   "metadata": {},
   "outputs": [
    {
     "name": "stdout",
     "output_type": "stream",
     "text": [
      "ChatCompletion(id='9a327d3e-0abb-4145-a919-aa20d601d878', choices=[Choice(finish_reason='stop', index=0, logprobs=None, message=ChatCompletionMessage(content='The exact number of stars in the universe is not known, but estimates suggest it is incredibly vast. According to various sources, the number of stars in the universe is likely in the sextillions (1 sextillion = 1,000,000,000,000,000,000,000).\\n\\n- **Estimates**:\\n  - One estimate suggests there are approximately 200 billion to 400 billion stars in the Milky Way galaxy.\\n  - There are estimated to be 100 billion to 200 billion galaxies in the universe.\\n  - Multiplying these numbers, the total number of stars in the universe could be around 300 sextillion (300,000,000,000,000,000,000,000).\\n  - Another estimate puts the number of stars at 1 septillion (1,000,000,000,000,000,000,000,000).\\n  - Another source estimates the number of stars to be around 200 sextillion (200,000,000,000,000,000,000,000).\\n\\n- **Challenges in Counting**:\\n  - The sheer number of stars makes it impossible to count them individually.\\n  - Telescopes can only see a limited distance, and there may be many more galaxies beyond what we can observe.\\n  - The presence of dark matter and dust clouds can block our view of some stars.\\n\\n- **Methods of Estimation**:\\n  - Astronomers use observations and data to estimate the number of stars in a typical galaxy and then multiply that by the estimated number of galaxies.\\n  - They also study the luminosity and formation rates of stars to make more accurate estimates.\\n\\nThese estimates and methods provide a rough idea of the enormous number of stars in the universe, but the exact number remains unknown due to the complexities of counting and observing such a vast expanse.', refusal=None, role='assistant', function_call=None, tool_calls=None), delta={'role': 'assistant', 'content': ''})], created=1724470546, model='llama-3-sonar-large-32k-online', object='chat.completion', service_tier=None, system_fingerprint=None, usage=CompletionUsage(completion_tokens=400, prompt_tokens=31, total_tokens=431))\n"
     ]
    },
    {
     "data": {
      "text/plain": [
       "ChatCompletion(id='5477b7c0-0a92-498b-a345-9ced308c1311', choices=[Choice(finish_reason='stop', index=0, logprobs=None, message=ChatCompletionMessage(content='The number of stars in the universe is a staggering estimate that has been calculated by astronomers using various methods. The most commonly cited estimate is around 200 billion trillion stars, or 200 sextillion. This number is derived by multiplying the estimated number of stars in a typical galaxy (around 100 billion) by the estimated number of galaxies in the universe (around 2 trillion).\\n\\nTo break this down further, astronomers have used several methods to arrive at this estimate:\\n\\n1. **Counting Galaxies**: By taking detailed pictures of small parts of the sky and counting the galaxies in those pictures, astronomers have estimated that there are approximately 2 trillion galaxies in the universe.\\n2. **Counting Stars in a Galaxy**: By measuring the starlight and luminosity of galaxies, astronomers have estimated that the Milky Way galaxy, which is typical in size and composition, contains around 100 billion stars.\\n3. **Multiplying the Numbers**: By multiplying the number of stars in a typical galaxy by the number of galaxies in the universe, astronomers arrive at the estimate of 200 billion trillion stars.\\n\\nIt is important to note that this is a rough estimate and the actual number of stars in the universe could be higher or lower. The universe is vast and complex, and there may be many stars that are too distant or too faint to be detected by current telescopes.', refusal=None, role='assistant', function_call=None, tool_calls=None), delta={'role': 'assistant', 'content': ''})], created=1724470556, model='llama-3-sonar-large-32k-online', object='chat.completion', service_tier=None, system_fingerprint=None, usage=CompletionUsage(completion_tokens=304, prompt_tokens=31, total_tokens=335))"
      ]
     },
     "metadata": {},
     "output_type": "display_data"
    }
   ],
   "source": [
    "from openai import OpenAI\n",
    "\n",
    "YOUR_API_KEY = \"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\"\n",
    "\n",
    "messages = [\n",
    "    {\n",
    "        \"role\": \"system\",\n",
    "        \"content\": (\n",
    "            \"You are an artificial intelligence assistant and you need to \"\n",
    "            \"engage in a helpful, detailed, polite conversation with a user.\"\n",
    "        ),\n",
    "    },\n",
    "    {\n",
    "        \"role\": \"user\",\n",
    "        \"content\": (\n",
    "            \"How many stars are in the universe?\"\n",
    "        ),\n",
    "    },\n",
    "]\n",
    "\n",
    "client = OpenAI(api_key=YOUR_API_KEY, base_url=\"https://api.perplexity.ai\")\n",
    "\n",
    "# chat completion without streaming\n",
    "response = client.chat.completions.create(\n",
    "    model=\"llama-3-sonar-large-32k-online\",\n",
    "    messages=messages,\n",
    ")\n",
    "display(response)"
   ]
  },
  {
   "cell_type": "code",
   "execution_count": null,
   "metadata": {},
   "outputs": [],
   "source": []
  }
 ],
 "metadata": {
  "kernelspec": {
   "display_name": "myvenv",
   "language": "python",
   "name": "python3"
  },
  "language_info": {
   "codemirror_mode": {
    "name": "ipython",
    "version": 3
   },
   "file_extension": ".py",
   "mimetype": "text/x-python",
   "name": "python",
   "nbconvert_exporter": "python",
   "pygments_lexer": "ipython3",
   "version": "3.12.5"
  }
 },
 "nbformat": 4,
 "nbformat_minor": 2
}
