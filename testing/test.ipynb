{
 "cells": [
  {
   "cell_type": "code",
   "execution_count": 10,
   "metadata": {},
   "outputs": [
    {
     "data": {
      "text/plain": [
       "'VaccinateCA is a volunteer-driven effort that was initiated in January 2021 to address logistical and communication issues in the rollout of COVID-19 vaccines in California. The group created a website and infrastructure to provide accurate and up-to-date information on vaccine availability and locations, helping to bridge public and private sector response efforts and making vaccines more accessible to the public.'"
      ]
     },
     "metadata": {},
     "output_type": "display_data"
    }
   ],
   "source": [
    "from openai import OpenAI\n",
    "\n",
    "YOUR_API_KEY = \"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\"\n",
    "\n",
    "messages = [\n",
    "    {\n",
    "        \"role\": \"system\",\n",
    "        \"content\": (\n",
    "            \"You are a question answering assistant. You are given a question and you need to answer it in a concise manner with no more than 3 sentences.\"\n",
    "        ),\n",
    "    },\n",
    "    {\n",
    "        \"role\": \"user\",\n",
    "        \"content\": (\n",
    "            \"What is VaccinateCA?\"\n",
    "        ),\n",
    "    },\n",
    "]\n",
    "\n",
    "client = OpenAI(api_key=YOUR_API_KEY, base_url=\"https://api.perplexity.ai\")\n",
    "\n",
    "# chat completion without streaming\n",
    "response = client.chat.completions.create(\n",
    "    model=\"llama-3.1-sonar-huge-128k-online\",\n",
    "    messages=messages,\n",
    ")\n",
    "display(response.choices[0].message.content)"
   ]
  },
  {
   "cell_type": "code",
   "execution_count": 8,
   "metadata": {},
   "outputs": [
    {
     "data": {
      "text/markdown": [
       "VaccinateCA was a volunteer-driven initiative that emerged in response to the logistical and communication challenges faced during the rollout of COVID-19 vaccines in the United States, particularly in California. Here are the key points about VaccinateCA:\n",
       "\n",
       "- **Formation and Purpose**: In January 2021, a group of technologists formed VaccinateCA to address the lack of a centralized system for finding COVID-19 vaccination locations. The group aimed to streamline the process of getting vaccines from freezers into people's arms.\n",
       "\n",
       "- **Technical Infrastructure**: VaccinateCA created a public-facing website with a map showing vaccine availability, eligibility criteria, and location information. They used tools like Discord for organization and Airtable as their database and primary software platform. The website was updated frequently to reflect the latest data on vaccine availability.\n",
       "\n",
       "- **Operations**: The team conducted daily call-a-thons to gather information from pharmacists and other healthcare providers about vaccine availability. They optimized their calls to maximize the collection of useful information, avoiding futile calls and focusing on areas with limited data.\n",
       "\n",
       "- **Impact**: By creating this infrastructure, VaccinateCA helped bridge the gap between public and private sector response efforts. Their data was eventually used by Google to direct vaccine seekers to vaccination locations throughout California, significantly improving access to vaccination information.\n",
       "\n",
       "VaccinateCA's efforts were crucial in enhancing the efficiency and accessibility of the COVID-19 vaccination rollout, particularly in California."
      ],
      "text/plain": [
       "<IPython.core.display.Markdown object>"
      ]
     },
     "metadata": {},
     "output_type": "display_data"
    }
   ],
   "source": [
    "from IPython.display import Markdown\n",
    "\n",
    "display(Markdown(response.choices[0].message.content))"
   ]
  },
  {
   "cell_type": "code",
   "execution_count": null,
   "metadata": {},
   "outputs": [],
   "source": []
  },
  {
   "cell_type": "code",
   "execution_count": null,
   "metadata": {},
   "outputs": [],
   "source": []
  }
 ],
 "metadata": {
  "kernelspec": {
   "display_name": "myvenv",
   "language": "python",
   "name": "python3"
  },
  "language_info": {
   "codemirror_mode": {
    "name": "ipython",
    "version": 3
   },
   "file_extension": ".py",
   "mimetype": "text/x-python",
   "name": "python",
   "nbconvert_exporter": "python",
   "pygments_lexer": "ipython3",
   "version": "3.12.5"
  }
 },
 "nbformat": 4,
 "nbformat_minor": 2
}
